{
 "cells": [
  {
   "attachments": {},
   "cell_type": "markdown",
   "metadata": {},
   "source": [
    "### Search by word \n",
    "- Give songs that contains the given word \n",
    "- Give metaphors that contains the word \n",
    "- Give popular ‘subject domain’ or ‘object domains’ that used with the given word\n"
   ]
  },
  {
   "cell_type": "code",
   "execution_count": 1,
   "metadata": {},
   "outputs": [],
   "source": [
    "from datetime import datetime\n",
    "from elasticsearch import Elasticsearch\n",
    "from collections import defaultdict\n",
    "import json \n",
    "import pandas as pd "
   ]
  },
  {
   "cell_type": "code",
   "execution_count": 2,
   "metadata": {},
   "outputs": [],
   "source": [
    "es = Elasticsearch(hosts=\"http://localhost:9200\")"
   ]
  },
  {
   "cell_type": "code",
   "execution_count": 3,
   "metadata": {},
   "outputs": [],
   "source": [
    "index = 'song-corpus'"
   ]
  },
  {
   "cell_type": "code",
   "execution_count": 4,
   "metadata": {},
   "outputs": [
    {
     "data": {
      "text/plain": [
       "[{'_index': 'song-corpus',\n",
       "  '_type': '_doc',\n",
       "  '_id': 'st0Tp4UBTgOk-OfX322j',\n",
       "  '_score': 4.7610803,\n",
       "  '_ignored': ['Lyrics in sinhala.keyword', 'Lyrics in english.keyword'],\n",
       "  '_source': {'id': 1,\n",
       "   'title': 'Aadaraya sundara varadaki',\n",
       "   'topic': 'love life',\n",
       "   'Lyrics in english': 'Aadaraya sundara varadaki\\nkisidaa samaavak nam nathi\\nmata pennalaa aaley hati\\nnumba dunna duka hondatama athi //\\n\\nInduvara nuvan daaley vatee paagii\\nDahaney velii unmaada vuye maa\\nvenekeku dihaa balmuata yali\\nmata neth nathai kendiruve kavurundo\\n\\npululura thalaa veenaa bandin davatee\\nrathangili bandee ninnaadaye anuraa\\nhada svara thalaa kampitha vevii\\nmata maa pavaa nathi kaley kavurundo',\n",
       "   'Lyrics in sinhala': 'ආදරය සුන්දර වරදකි\\nකිසිදා සමාවක්\\u200c නම් නැති\\nමට පෙන්නලා ආලේ හැටි\\nනුඹ දුන්නු දුක හොඳටම ඇති//\\n\\nඉඳුවර නුවන් දෑලේ වැටී පෑහී\\nබැහැරී වෙලී උන්මාද වූයේ මා\\nවෙනකෙකු දිහා බැලුමට යලිත්\\nමට නෙත් නැතැයි කෙඳිරුවේ කවුරුන්දෝ\\n\\nපුළුලුරුතලා වීණා බඳින් දැවටී\\nරතැඟිලි බැඳී නින්නාදයේ අනුරා\\nහද ස්\\u200cවර පවා කම්පිත වෙවී\\nමට මා පවා නැති කලේ කවුරුන්දෝ',\n",
       "   'Singer': 'Karunarathna Diwlgane',\n",
       "   'Music': 'Gunadasa Kapuge',\n",
       "   'Lyrics': 'Yamuna Malini Perera',\n",
       "   'Annotation': [{'Line': 6,\n",
       "     'Metaphore': 'nuvan daaley',\n",
       "     'Object-sinhala': 'nuvan',\n",
       "     'Object-english': 'eye',\n",
       "     'Subject-sinhala': 'induwara',\n",
       "     'Subject-english': 'sun'},\n",
       "    {'Line': 2,\n",
       "     'Metaphore': 'adaraya sundara varadaki',\n",
       "     'Object-sinhala': 'adaraya',\n",
       "     'Object-english': 'love',\n",
       "     'Subject-sinhala': 'sundara varadaki',\n",
       "     'Subject-english': 'mistake'},\n",
       "    {'Line': 14,\n",
       "     'Metaphore': 'hada svara',\n",
       "     'Object-sinhala': 'hada',\n",
       "     'Object-english': 'heart',\n",
       "     'Subject-sinhala': 'svara',\n",
       "     'Subject-english': 'notes'},\n",
       "    {'Line': 12,\n",
       "     'Metaphore': 'veenaa bandin',\n",
       "     'Object-sinhala': 'veena',\n",
       "     'Object-english': 'harps',\n",
       "     'Subject-sinhala': 'bandin',\n",
       "     'Subject-english': 'hip'}]}},\n",
       " {'_index': 'song-corpus',\n",
       "  '_type': '_doc',\n",
       "  '_id': 'IN0Xp4UBTgOk-OfXSG7B',\n",
       "  '_score': 4.7610803,\n",
       "  '_ignored': ['Lyrics in sinhala.keyword', 'Lyrics in english.keyword'],\n",
       "  '_source': {'id': 1,\n",
       "   'title': 'Aadaraya sundara varadaki',\n",
       "   'topic': 'love life',\n",
       "   'Lyrics in english': 'Aadaraya sundara varadaki\\nkisidaa samaavak nam nathi\\nmata pennalaa aaley hati\\nnumba dunna duka hondatama athi //\\n\\nInduvara nuvan daaley vatee paagii\\nDahaney velii unmaada vuye maa\\nvenekeku dihaa balmuata yali\\nmata neth nathai kendiruve kavurundo\\n\\npululura thalaa veenaa bandin davatee\\nrathangili bandee ninnaadaye anuraa\\nhada svara thalaa kampitha vevii\\nmata maa pavaa nathi kaley kavurundo',\n",
       "   'Lyrics in sinhala': 'ආදරය සුන්දර වරදකි\\nකිසිදා සමාවක්\\u200c නම් නැති\\nමට පෙන්නලා ආලේ හැටි\\nනුඹ දුන්නු දුක හොඳටම ඇති//\\n\\nඉඳුවර නුවන් දෑලේ වැටී පෑහී\\nබැහැරී වෙලී උන්මාද වූයේ මා\\nවෙනකෙකු දිහා බැලුමට යලිත්\\nමට නෙත් නැතැයි කෙඳිරුවේ කවුරුන්දෝ\\n\\nපුළුලුරුතලා වීණා බඳින් දැවටී\\nරතැඟිලි බැඳී නින්නාදයේ අනුරා\\nහද ස්\\u200cවර පවා කම්පිත වෙවී\\nමට මා පවා නැති කලේ කවුරුන්දෝ',\n",
       "   'Singer': 'Karunarathna Diwlgane',\n",
       "   'Music': 'Gunadasa Kapuge',\n",
       "   'Lyrics': 'Yamuna Malini Perera',\n",
       "   'Annotation': [{'Line': 6,\n",
       "     'Metaphore': 'nuvan daaley',\n",
       "     'Object-sinhala': 'nuvan',\n",
       "     'Object-english': 'eye',\n",
       "     'Subject-sinhala': 'induwara',\n",
       "     'Subject-english': 'sun'},\n",
       "    {'Line': 2,\n",
       "     'Metaphore': 'adaraya sundara varadaki',\n",
       "     'Object-sinhala': 'adaraya',\n",
       "     'Object-english': 'love',\n",
       "     'Subject-sinhala': 'sundara varadaki',\n",
       "     'Subject-english': 'mistake'},\n",
       "    {'Line': 14,\n",
       "     'Metaphore': 'hada svara',\n",
       "     'Object-sinhala': 'hada',\n",
       "     'Object-english': 'heart',\n",
       "     'Subject-sinhala': 'svara',\n",
       "     'Subject-english': 'notes'},\n",
       "    {'Line': 12,\n",
       "     'Metaphore': 'veenaa bandin',\n",
       "     'Object-sinhala': 'veena',\n",
       "     'Object-english': 'harps',\n",
       "     'Subject-sinhala': 'bandin',\n",
       "     'Subject-english': 'hip'}]}}]"
      ]
     },
     "execution_count": 4,
     "metadata": {},
     "output_type": "execute_result"
    }
   ],
   "source": [
    "# search by Sinhala word \n",
    "word = \"ආදරය\"\n",
    "resp = es.search(index=index, query={'match': {'Lyrics in sinhala': word}})\n",
    "resp['hits']['hits']"
   ]
  },
  {
   "cell_type": "code",
   "execution_count": null,
   "metadata": {},
   "outputs": [],
   "source": [
    "ignore_chars = ['\\u200c', '\\u200b']"
   ]
  },
  {
   "cell_type": "code",
   "execution_count": 5,
   "metadata": {},
   "outputs": [],
   "source": [
    "all_annotation = []\n",
    "hits = resp['hits']['hits']\n",
    "for h in hits:\n",
    "    h = h['_source']\n",
    "    all_annotation.extend(h['Annotation'])\n",
    "\n",
    "metaphors = [i['Metaphore'] for i in all_annotation]\n",
    "object_sinhala = [i['Object-sinhala'] for i in all_annotation]\n",
    "object_english = [i['Object-english'] for i in all_annotation]\n",
    "subject_sinhala = [i['Subject-sinhala'] for i in all_annotation]\n",
    "subject_english = [i['Subject-english'] for i in all_annotation]"
   ]
  },
  {
   "cell_type": "code",
   "execution_count": 6,
   "metadata": {},
   "outputs": [
    {
     "data": {
      "text/plain": [
       "['nuvan daaley',\n",
       " 'adaraya sundara varadaki',\n",
       " 'hada svara',\n",
       " 'veenaa bandin',\n",
       " 'nuvan daaley',\n",
       " 'adaraya sundara varadaki',\n",
       " 'hada svara',\n",
       " 'veenaa bandin']"
      ]
     },
     "execution_count": 6,
     "metadata": {},
     "output_type": "execute_result"
    }
   ],
   "source": [
    "metaphors"
   ]
  },
  {
   "cell_type": "code",
   "execution_count": null,
   "metadata": {},
   "outputs": [],
   "source": []
  }
 ],
 "metadata": {
  "kernelspec": {
   "display_name": "IR_app",
   "language": "python",
   "name": "python3"
  },
  "language_info": {
   "codemirror_mode": {
    "name": "ipython",
    "version": 3
   },
   "file_extension": ".py",
   "mimetype": "text/x-python",
   "name": "python",
   "nbconvert_exporter": "python",
   "pygments_lexer": "ipython3",
   "version": "3.8.15 (default, Nov 24 2022, 14:38:14) [MSC v.1916 64 bit (AMD64)]"
  },
  "orig_nbformat": 4,
  "vscode": {
   "interpreter": {
    "hash": "565404f67f5f1396f7005e55dfbdb616bbec24f80a43f4730c4bec1183f81eac"
   }
  }
 },
 "nbformat": 4,
 "nbformat_minor": 2
}
