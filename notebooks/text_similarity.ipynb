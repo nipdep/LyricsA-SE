{
 "cells": [
  {
   "cell_type": "code",
   "execution_count": 6,
   "metadata": {},
   "outputs": [],
   "source": [
    "sentences = [\n",
    "    \"cemetary box\",\n",
    "    \"The fish dreamed of escaping the fishbowl and into the toilet where he saw his friend go.\",\n",
    "    \"The person box was packed with jelly many dozens of months later.\",\n",
    "    \"He found a leprechaun in his walnut shell.\"\n",
    "]"
   ]
  },
  {
   "cell_type": "code",
   "execution_count": 2,
   "metadata": {},
   "outputs": [
    {
     "name": "stderr",
     "output_type": "stream",
     "text": [
      "c:\\Users\\deela\\anaconda3\\envs\\ml_base\\lib\\site-packages\\tqdm\\auto.py:22: TqdmWarning: IProgress not found. Please update jupyter and ipywidgets. See https://ipywidgets.readthedocs.io/en/stable/user_install.html\n",
      "  from .autonotebook import tqdm as notebook_tqdm\n",
      "Downloading: 100%|██████████| 391/391 [00:00<00:00, 390kB/s]\n",
      "Downloading: 100%|██████████| 190/190 [00:00<00:00, 186kB/s]\n",
      "Downloading: 100%|██████████| 3.95k/3.95k [00:00<00:00, 1.94MB/s]\n",
      "Downloading: 100%|██████████| 2.00/2.00 [00:00<00:00, 974B/s]\n",
      "Downloading: 100%|██████████| 625/625 [00:00<00:00, 307kB/s]\n",
      "Downloading: 100%|██████████| 122/122 [00:00<00:00, 61.0kB/s]\n",
      "Downloading: 100%|██████████| 438M/438M [09:13<00:00, 792kB/s]  \n",
      "Downloading: 100%|██████████| 53.0/53.0 [00:00<00:00, 53.0kB/s]\n",
      "Downloading: 100%|██████████| 112/112 [00:00<00:00, 56.1kB/s]\n",
      "Downloading: 100%|██████████| 466k/466k [00:02<00:00, 227kB/s]  \n",
      "Downloading: 100%|██████████| 399/399 [00:00<00:00, 200kB/s]\n",
      "Downloading: 100%|██████████| 232k/232k [00:01<00:00, 188kB/s]  \n",
      "Downloading: 100%|██████████| 229/229 [00:00<00:00, 115kB/s]\n"
     ]
    }
   ],
   "source": [
    "from sentence_transformers import SentenceTransformer\n",
    "\n",
    "model = SentenceTransformer('bert-base-nli-mean-tokens')"
   ]
  },
  {
   "cell_type": "code",
   "execution_count": 13,
   "metadata": {},
   "outputs": [],
   "source": [
    "sentence_embeddings = model.encode(sentences)"
   ]
  },
  {
   "cell_type": "code",
   "execution_count": 14,
   "metadata": {},
   "outputs": [],
   "source": [
    "from sklearn.metrics.pairwise import cosine_similarity"
   ]
  },
  {
   "cell_type": "code",
   "execution_count": 15,
   "metadata": {},
   "outputs": [
    {
     "data": {
      "text/plain": [
       "array([[0.14211306, 0.10405092, 0.13100648]], dtype=float32)"
      ]
     },
     "execution_count": 15,
     "metadata": {},
     "output_type": "execute_result"
    }
   ],
   "source": [
    "cosine_similarity(\n",
    "    [sentence_embeddings[0]],\n",
    "    sentence_embeddings[1:]\n",
    ")"
   ]
  },
  {
   "cell_type": "code",
   "execution_count": 16,
   "metadata": {},
   "outputs": [],
   "source": [
    "sentences = [\n",
    "    \"lover\",\n",
    "    \"a person who likes a lot\",\n",
    "    'a person of caring',\n",
    "    \"a girls with red hair\",\n",
    "    \"a beach boy\"\n",
    "]\n",
    "\n",
    "sentence_embeddings = model.encode(sentences)"
   ]
  },
  {
   "cell_type": "code",
   "execution_count": 17,
   "metadata": {},
   "outputs": [
    {
     "data": {
      "text/plain": [
       "array([[0.6482426 , 0.6869567 , 0.22073308, 0.3175029 ]], dtype=float32)"
      ]
     },
     "execution_count": 17,
     "metadata": {},
     "output_type": "execute_result"
    }
   ],
   "source": [
    "cosine_similarity(\n",
    "    [sentence_embeddings[0]],\n",
    "    sentence_embeddings[1:]\n",
    ")"
   ]
  },
  {
   "cell_type": "code",
   "execution_count": null,
   "metadata": {},
   "outputs": [],
   "source": []
  }
 ],
 "metadata": {
  "kernelspec": {
   "display_name": "ml_base",
   "language": "python",
   "name": "python3"
  },
  "language_info": {
   "codemirror_mode": {
    "name": "ipython",
    "version": 3
   },
   "file_extension": ".py",
   "mimetype": "text/x-python",
   "name": "python",
   "nbconvert_exporter": "python",
   "pygments_lexer": "ipython3",
   "version": "3.8.13 (default, Oct 19 2022, 22:38:03) [MSC v.1916 64 bit (AMD64)]"
  },
  "orig_nbformat": 4,
  "vscode": {
   "interpreter": {
    "hash": "588f7d70bde5aa5a105a7844773a48c85f199f4b648013d555bd392b2a6adc63"
   }
  }
 },
 "nbformat": 4,
 "nbformat_minor": 2
}
