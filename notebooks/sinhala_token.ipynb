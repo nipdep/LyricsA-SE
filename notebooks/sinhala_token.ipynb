{
 "cells": [
  {
   "cell_type": "code",
   "execution_count": 1,
   "metadata": {},
   "outputs": [],
   "source": [
    "from sinling import SinhalaTokenizer"
   ]
  },
  {
   "cell_type": "code",
   "execution_count": 2,
   "metadata": {},
   "outputs": [],
   "source": [
    "tokenizer = SinhalaTokenizer()"
   ]
  },
  {
   "cell_type": "code",
   "execution_count": 5,
   "metadata": {},
   "outputs": [],
   "source": [
    "sentence = 'මල් පිට මල් හැලෙන දිගු මාවතේ\\nපිය මත පිය තබමින් හිනැහෙන නුබේ\\nඉගි නළුවට වශි වී\\nඅත්තල නගයි තුරුපත් පවා..\\n\\nදිය පිට දියරැලි නගන ගං දියේ\\nසැඩ රළ මතින් ඔරුවක නැගි\\nඑතෙරට යනු දැක ඔබයි මමයි\\nසැඩ නල පවා හමන හැටි පුදුමයි\\n\\nවැහි පිට වැහි හැලෙන රාත්රියේ\\nඋණුහුම් වෙමින් තුරුලත වෙලී\\nමුදු රස විදින සඳ ඔබයි මමයි\\nහිරිකඩ පවා දැනෙන හැටි පුදුමයි'"
   ]
  },
  {
   "attachments": {},
   "cell_type": "markdown",
   "metadata": {},
   "source": [
    "---"
   ]
  },
  {
   "cell_type": "code",
   "execution_count": null,
   "metadata": {},
   "outputs": [],
   "source": [
    "from nltk import ngrams\n",
    "\n",
    "# Function to generate n-grams for a given word\n",
    "def generate_ngrams(word, n):\n",
    "    return set(ngrams(word, n))\n",
    "\n",
    "# Function to suggest corrections for a misspelled word\n",
    "def correct_spelling(misspelled_word, correct_words, n):\n",
    "    misspelled_ngrams = generate_ngrams(misspelled_word, n)\n",
    "    suggestions = []\n",
    "    max_similarity = 0\n",
    "    for correct_word in correct_words:\n",
    "        similarity = len(misspelled_ngrams.intersection(generate_ngrams(correct_word, n)))\n",
    "        if similarity > max_similarity:\n",
    "            suggestions = [correct_word]\n",
    "            max_similarity = similarity\n",
    "        elif similarity == max_similarity:\n",
    "            suggestions.append(correct_word)\n",
    "    return suggestions\n",
    "\n",
    "# Example usage\n",
    "correct_words = [\"mother\",\"father\",\"sister\",\"brother\",\"uncle\",\"aunt\"]\n",
    "misspelled_word = \"mothr\"\n",
    "n = 2\n",
    "print(correct_spelling(misspelled_word, correct_words, n))"
   ]
  },
  {
   "cell_type": "code",
   "execution_count": null,
   "metadata": {},
   "outputs": [],
   "source": []
  }
 ],
 "metadata": {
  "kernelspec": {
   "display_name": "IR_app",
   "language": "python",
   "name": "python3"
  },
  "language_info": {
   "codemirror_mode": {
    "name": "ipython",
    "version": 3
   },
   "file_extension": ".py",
   "mimetype": "text/x-python",
   "name": "python",
   "nbconvert_exporter": "python",
   "pygments_lexer": "ipython3",
   "version": "3.8.15 (default, Nov 24 2022, 14:38:14) [MSC v.1916 64 bit (AMD64)]"
  },
  "orig_nbformat": 4,
  "vscode": {
   "interpreter": {
    "hash": "565404f67f5f1396f7005e55dfbdb616bbec24f80a43f4730c4bec1183f81eac"
   }
  }
 },
 "nbformat": 4,
 "nbformat_minor": 2
}
