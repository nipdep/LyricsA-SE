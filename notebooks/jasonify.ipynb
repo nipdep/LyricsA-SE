{
 "cells": [
  {
   "cell_type": "code",
   "execution_count": 1,
   "metadata": {},
   "outputs": [],
   "source": [
    "import os \n",
    "from glob import glob\n",
    "import json "
   ]
  },
  {
   "cell_type": "code",
   "execution_count": 6,
   "metadata": {},
   "outputs": [],
   "source": [
    "def read_file(p):\n",
    "    file_data = []\n",
    "    with open(p, 'r', encoding='utf-8') as pf:\n",
    "        file_data = [i for i in pf.readlines()]\n",
    "    return file_data"
   ]
  },
  {
   "cell_type": "code",
   "execution_count": 36,
   "metadata": {},
   "outputs": [],
   "source": [
    "def encode_file(data, idx, name):\n",
    "    pointers = ['Lyrics in english\\n', 'Lyrics in sinhala\\n', 'Singer\\n', 'Music\\n', 'Lyrics\\n']\n",
    "    pointer = 0 \n",
    "    data_dict = {'id': idx, 'title': name}\n",
    "    tmp_str = ''\n",
    "    for r in data:\n",
    "        r = r.replace(' :', '').replace(': ', '').replace(':', '')\n",
    "        if r == pointers[pointer]:\n",
    "            if pointer > 0:\n",
    "                data_dict[pointers[pointer-1].replace('\\n', '')] = tmp_str.rstrip('\\n')\n",
    "\n",
    "            pointer+=1\n",
    "            pointer = min(4, pointer)\n",
    "            tmp_str = ''\n",
    "        else:\n",
    "            tmp_str+=r \n",
    "    else:\n",
    "        data_dict[pointers[pointer].replace('\\n', '')] = tmp_str.rstrip('\\n')\n",
    "    \n",
    "    return data_dict\n"
   ]
  },
  {
   "cell_type": "code",
   "execution_count": 37,
   "metadata": {},
   "outputs": [
    {
     "data": {
      "text/plain": [
       "'Lyrics in english\\n'"
      ]
     },
     "execution_count": 37,
     "metadata": {},
     "output_type": "execute_result"
    }
   ],
   "source": [
    "s = 'Lyrics in english :\\n'\n",
    "s.replace(' :', '')"
   ]
  },
  {
   "cell_type": "code",
   "execution_count": 38,
   "metadata": {},
   "outputs": [
    {
     "data": {
      "text/plain": [
       "'Singer'"
      ]
     },
     "execution_count": 38,
     "metadata": {},
     "output_type": "execute_result"
    }
   ],
   "source": [
    "s = 'Singer:'\n",
    "s.replace(' :', '').replace(':', '')"
   ]
  },
  {
   "cell_type": "code",
   "execution_count": 41,
   "metadata": {},
   "outputs": [],
   "source": [
    "all_data = []\n",
    "for ind, p in enumerate(glob('../data/song-docs/*.txt'), start=1):\n",
    "    try:\n",
    "        # print(p)\n",
    "        # print(read_file(p))\n",
    "        title = p.split('\\\\')[-1].rstrip('.txt')\n",
    "        # print('title : ', title)\n",
    "        lines = read_file(p)\n",
    "        data = encode_file(lines, ind, title)\n",
    "        all_data.append(data)\n",
    "    except:\n",
    "        print(p)\n",
    " "
   ]
  },
  {
   "cell_type": "code",
   "execution_count": null,
   "metadata": {},
   "outputs": [],
   "source": [
    "all_data"
   ]
  },
  {
   "cell_type": "code",
   "execution_count": null,
   "metadata": {},
   "outputs": [],
   "source": [
    "with open('../data/all_data.json', 'w', encoding='utf8') as pf:\n",
    "    json.dump(all_data, pf, ensure_ascii=False)"
   ]
  },
  {
   "cell_type": "code",
   "execution_count": null,
   "metadata": {},
   "outputs": [],
   "source": []
  }
 ],
 "metadata": {
  "kernelspec": {
   "display_name": "base",
   "language": "python",
   "name": "python3"
  },
  "language_info": {
   "codemirror_mode": {
    "name": "ipython",
    "version": 3
   },
   "file_extension": ".py",
   "mimetype": "text/x-python",
   "name": "python",
   "nbconvert_exporter": "python",
   "pygments_lexer": "ipython3",
   "version": "3.9.12 (main, Apr  4 2022, 05:22:27) [MSC v.1916 64 bit (AMD64)]"
  },
  "orig_nbformat": 4,
  "vscode": {
   "interpreter": {
    "hash": "08aea5f70877f29c16b88dd2c4446bb1b0b98820cbf110aea5656aecf55fbfb0"
   }
  }
 },
 "nbformat": 4,
 "nbformat_minor": 2
}
